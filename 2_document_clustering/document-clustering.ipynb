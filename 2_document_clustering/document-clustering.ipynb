{
 "cells": [
  {
   "cell_type": "markdown",
   "id": "6e12f562-52b8-47e6-b292-ddc6810a8912",
   "metadata": {},
   "source": [
    "### Information Retrieval Coursework (STW7071CEM)"
   ]
  },
  {
   "cell_type": "markdown",
   "id": "0f9149ed-a46c-4430-b16a-5f2bfd9796e3",
   "metadata": {},
   "source": [
    "Task: Develop a document clustering system.\n",
    "\n",
    "First, collect a number of documents that belong to different categories, namely Sport, Health and Business. Each document should be at least one sentence (the longer is usually the better). The total number of documents is up to you but should be at least 100 (the more is usually the better).\n",
    "\n",
    "Once you have collected sufficient documents, cluster them using a standard clustering method (e.g. K-means).\n",
    "\n",
    "Finally, use the created model to assign a new document to one of the existing clusters. That is, the user enters a document (e.g. a sentence) and your system outputs the right cluster."
   ]
  },
  {
   "cell_type": "markdown",
   "id": "4e2b6f23-4210-4333-9125-83c141398dfa",
   "metadata": {},
   "source": [
    "### Importing Modules"
   ]
  },
  {
   "cell_type": "code",
   "execution_count": 1,
   "id": "ef65c1e2-ed42-47b2-a5ae-12ca780487da",
   "metadata": {},
   "outputs": [
    {
     "ename": "ModuleNotFoundError",
     "evalue": "No module named 'pandas'",
     "output_type": "error",
     "traceback": [
      "\u001b[1;31m---------------------------------------------------------------------------\u001b[0m",
      "\u001b[1;31mModuleNotFoundError\u001b[0m                       Traceback (most recent call last)",
      "Cell \u001b[1;32mIn[1], line 5\u001b[0m\n\u001b[0;32m      2\u001b[0m \u001b[38;5;28;01mimport\u001b[39;00m \u001b[38;5;21;01mstring\u001b[39;00m\n\u001b[0;32m      4\u001b[0m \u001b[38;5;66;03m# Data Handling and Processing\u001b[39;00m\n\u001b[1;32m----> 5\u001b[0m \u001b[38;5;28;01mimport\u001b[39;00m \u001b[38;5;21;01mpandas\u001b[39;00m \u001b[38;5;28;01mas\u001b[39;00m \u001b[38;5;21;01mpd\u001b[39;00m\n\u001b[0;32m      6\u001b[0m \u001b[38;5;28;01mimport\u001b[39;00m \u001b[38;5;21;01mnumpy\u001b[39;00m \u001b[38;5;28;01mas\u001b[39;00m \u001b[38;5;21;01mnp\u001b[39;00m\n\u001b[0;32m      7\u001b[0m \u001b[38;5;28;01mimport\u001b[39;00m \u001b[38;5;21;01mre\u001b[39;00m\n",
      "\u001b[1;31mModuleNotFoundError\u001b[0m: No module named 'pandas'"
     ]
    }
   ],
   "source": [
    "import os\n",
    "import string\n",
    "\n",
    "# Data Handling and Processing\n",
    "import pandas as pd\n",
    "import numpy as np\n",
    "import re\n",
    "# from scipy import interp\n",
    "\n",
    "\n",
    "# # Visualuzation\n",
    "import matplotlib.pyplot as plt\n",
    "# %matplotlib inline\n",
    "# %config InlineBackend.figure_format='retina'\n",
    "\n",
    "# NLP Packages\n",
    "from nltk.tokenize import word_tokenize\n",
    "from nltk.corpus import stopwords, wordnet\n",
    "from nltk.stem import WordNetLemmatizer\n",
    "from nltk import pos_tag\n",
    "import nltk\n",
    "from joblib import dump, load\n",
    "\n",
    "\n",
    "# ML Models\n",
    "from sklearn.linear_model import LogisticRegression\n",
    "from sklearn.naive_bayes import MultinomialNB\n",
    "from sklearn.linear_model import RidgeClassifier\n",
    "from sklearn.tree import DecisionTreeClassifier\n",
    "\n",
    "# Scikit Learn packages\n",
    "from sklearn.base import clone\n",
    "from sklearn.preprocessing import label_binarize, LabelEncoder\n",
    "from sklearn.feature_extraction.text import TfidfVectorizer, CountVectorizer\n",
    "from sklearn.model_selection import KFold, cross_validate, cross_val_score, train_test_split\n",
    "from sklearn.pipeline import Pipeline\n",
    "from sklearn import metrics\n",
    "from sklearn.metrics import roc_curve, auc"
   ]
  },
  {
   "cell_type": "markdown",
   "id": "711b2c2f-3bd7-4ff1-a06c-06bd65d06ab6",
   "metadata": {},
   "source": [
    "### Load Dataset"
   ]
  },
  {
   "cell_type": "code",
   "execution_count": 3,
   "id": "547d3dc1",
   "metadata": {},
   "outputs": [
    {
     "ename": "SyntaxError",
     "evalue": "invalid syntax (1048225456.py, line 1)",
     "output_type": "error",
     "traceback": [
      "\u001b[1;36m  Cell \u001b[1;32mIn[3], line 1\u001b[1;36m\u001b[0m\n\u001b[1;33m    pip install pandas\u001b[0m\n\u001b[1;37m        ^\u001b[0m\n\u001b[1;31mSyntaxError\u001b[0m\u001b[1;31m:\u001b[0m invalid syntax\n"
     ]
    }
   ],
   "source": [
    "\n"
   ]
  },
  {
   "cell_type": "code",
   "execution_count": 19,
   "id": "9bb035a9-00af-4bd1-99e0-7642960f6e42",
   "metadata": {},
   "outputs": [
    {
     "name": "stdout",
     "output_type": "stream",
     "text": [
      "(111, 3)\n"
     ]
    },
    {
     "data": {
      "text/html": [
       "<div>\n",
       "<style scoped>\n",
       "    .dataframe tbody tr th:only-of-type {\n",
       "        vertical-align: middle;\n",
       "    }\n",
       "\n",
       "    .dataframe tbody tr th {\n",
       "        vertical-align: top;\n",
       "    }\n",
       "\n",
       "    .dataframe thead th {\n",
       "        text-align: right;\n",
       "    }\n",
       "</style>\n",
       "<table border=\"1\" class=\"dataframe\">\n",
       "  <thead>\n",
       "    <tr style=\"text-align: right;\">\n",
       "      <th></th>\n",
       "      <th>Document</th>\n",
       "      <th>Cluster</th>\n",
       "      <th>Cluster_Name</th>\n",
       "    </tr>\n",
       "  </thead>\n",
       "  <tbody>\n",
       "    <tr>\n",
       "      <th>0</th>\n",
       "      <td>Trying to understand it for the first time or ...</td>\n",
       "      <td>1.0</td>\n",
       "      <td>Politics</td>\n",
       "    </tr>\n",
       "    <tr>\n",
       "      <th>1</th>\n",
       "      <td>President Biden has upended the 2024  White Ho...</td>\n",
       "      <td>1.0</td>\n",
       "      <td>Politics</td>\n",
       "    </tr>\n",
       "    <tr>\n",
       "      <th>2</th>\n",
       "      <td>The junior senator from Ohio shot to fame writ...</td>\n",
       "      <td>1.0</td>\n",
       "      <td>Politics</td>\n",
       "    </tr>\n",
       "    <tr>\n",
       "      <th>3</th>\n",
       "      <td>A very quick guide to Donald Trump's life story.</td>\n",
       "      <td>1.0</td>\n",
       "      <td>Politics</td>\n",
       "    </tr>\n",
       "    <tr>\n",
       "      <th>4</th>\n",
       "      <td>The daughter of an Indian-born mother and Jama...</td>\n",
       "      <td>1.0</td>\n",
       "      <td>Politics</td>\n",
       "    </tr>\n",
       "  </tbody>\n",
       "</table>\n",
       "</div>"
      ],
      "text/plain": [
       "                                            Document  Cluster Cluster_Name\n",
       "0  Trying to understand it for the first time or ...      1.0     Politics\n",
       "1  President Biden has upended the 2024  White Ho...      1.0     Politics\n",
       "2  The junior senator from Ohio shot to fame writ...      1.0     Politics\n",
       "3   A very quick guide to Donald Trump's life story.      1.0     Politics\n",
       "4  The daughter of an Indian-born mother and Jama...      1.0     Politics"
      ]
     },
     "execution_count": 19,
     "metadata": {},
     "output_type": "execute_result"
    }
   ],
   "source": [
    "df = pd.read_csv('database_csv.csv',encoding='latin1')\n",
    "df = df[df['Cluster_Name'].isin(['Politics','Entertainment','Economics'])]\n",
    "print(df.shape)\n",
    "df.head()\n"
   ]
  },
  {
   "cell_type": "code",
   "execution_count": 20,
   "id": "7abc5a65",
   "metadata": {},
   "outputs": [
    {
     "name": "stdout",
     "output_type": "stream",
     "text": [
      "Index(['Document', 'Cluster', 'Cluster_Name'], dtype='object')\n"
     ]
    }
   ],
   "source": [
    "print(df.columns)"
   ]
  },
  {
   "cell_type": "code",
   "execution_count": 21,
   "id": "741b10b8-fca9-4834-af6d-b4c6423219f9",
   "metadata": {},
   "outputs": [
    {
     "data": {
      "text/html": [
       "<div>\n",
       "<style scoped>\n",
       "    .dataframe tbody tr th:only-of-type {\n",
       "        vertical-align: middle;\n",
       "    }\n",
       "\n",
       "    .dataframe tbody tr th {\n",
       "        vertical-align: top;\n",
       "    }\n",
       "\n",
       "    .dataframe thead th {\n",
       "        text-align: right;\n",
       "    }\n",
       "</style>\n",
       "<table border=\"1\" class=\"dataframe\">\n",
       "  <thead>\n",
       "    <tr style=\"text-align: right;\">\n",
       "      <th></th>\n",
       "      <th>Document</th>\n",
       "      <th>Cluster_Name</th>\n",
       "    </tr>\n",
       "  </thead>\n",
       "  <tbody>\n",
       "    <tr>\n",
       "      <th>0</th>\n",
       "      <td>Trying to understand it for the first time or ...</td>\n",
       "      <td>Politics</td>\n",
       "    </tr>\n",
       "    <tr>\n",
       "      <th>1</th>\n",
       "      <td>President Biden has upended the 2024  White Ho...</td>\n",
       "      <td>Politics</td>\n",
       "    </tr>\n",
       "    <tr>\n",
       "      <th>2</th>\n",
       "      <td>The junior senator from Ohio shot to fame writ...</td>\n",
       "      <td>Politics</td>\n",
       "    </tr>\n",
       "    <tr>\n",
       "      <th>3</th>\n",
       "      <td>A very quick guide to Donald Trump's life story.</td>\n",
       "      <td>Politics</td>\n",
       "    </tr>\n",
       "    <tr>\n",
       "      <th>4</th>\n",
       "      <td>The daughter of an Indian-born mother and Jama...</td>\n",
       "      <td>Politics</td>\n",
       "    </tr>\n",
       "  </tbody>\n",
       "</table>\n",
       "</div>"
      ],
      "text/plain": [
       "                                            Document Cluster_Name\n",
       "0  Trying to understand it for the first time or ...     Politics\n",
       "1  President Biden has upended the 2024  White Ho...     Politics\n",
       "2  The junior senator from Ohio shot to fame writ...     Politics\n",
       "3   A very quick guide to Donald Trump's life story.     Politics\n",
       "4  The daughter of an Indian-born mother and Jama...     Politics"
      ]
     },
     "execution_count": 21,
     "metadata": {},
     "output_type": "execute_result"
    }
   ],
   "source": [
    "df.drop(columns=['Cluster'], inplace=True)\n",
    "df.head()"
   ]
  },
  {
   "cell_type": "markdown",
   "id": "8d96097a-c0e2-4dc8-8a6a-5591d8dae464",
   "metadata": {},
   "source": [
    "### Exploring the Dataset"
   ]
  },
  {
   "cell_type": "code",
   "execution_count": 34,
   "id": "1a4aa310-6473-489e-8466-a71cf622f657",
   "metadata": {},
   "outputs": [
    {
     "data": {
      "image/png": "[encoded data removed]",
      "text/plain": [
       "<Figure size 640x480 with 1 Axes>"
      ]
     },
     "metadata": {},
     "output_type": "display_data"
    }
   ],
   "source": [
    "df['Cluster_Name'].value_counts().plot(kind='bar')\n",
    "plt.title('Number of Headlines per cluster name', size=20, pad=20);"
   ]
  },
  {
   "cell_type": "code",
   "execution_count": 25,
   "id": "1824c16e-3f36-4c9c-9622-d3ac831057d2",
   "metadata": {},
   "outputs": [
    {
     "data": {
      "text/plain": [
       "Document        0\n",
       "Cluster_Name    0\n",
       "dtype: int64"
      ]
     },
     "execution_count": 25,
     "metadata": {},
     "output_type": "execute_result"
    }
   ],
   "source": [
    "#Checking for missing values\n",
    "df.isna().sum()"
   ]
  },
  {
   "cell_type": "markdown",
   "id": "b83e37bb-9c3a-49ab-b66d-bb4a4f8ab3fc",
   "metadata": {},
   "source": [
    "### Text Preprocessing"
   ]
  },
  {
   "cell_type": "markdown",
   "id": "d59f743a-53c5-4ad1-bb1c-2da06a887e04",
   "metadata": {},
   "source": [
    "We will now clean the text by removing special characters and punctuations."
   ]
  },
  {
   "cell_type": "code",
   "execution_count": 26,
   "id": "8107bb2e-2c7c-4bd0-b58b-904fa93c1fe8",
   "metadata": {},
   "outputs": [],
   "source": [
    "def preprocess(df):\n",
    "    # Remove special characters\n",
    "    df['Document-pro'] = df['Document'].replace('\\n',' ')\n",
    "    df['Document-pro'] = df['Document-pro'].replace('\\r',' ')\n",
    "    \n",
    "    # Remove punctuation and lowercase\n",
    "    df['Document-pro'] = df['Document-pro'].str.lower()\n",
    "    df['Document-pro'] = df['Document-pro'].str.translate(str.maketrans('','',string.punctuation))\n",
    "    \n",
    "    # Remove stop words\n",
    "    stop_words = stopwords.words(\"english\")\n",
    "    lemmatizer = WordNetLemmatizer()\n",
    "    \n",
    "    def fwpt(each):\n",
    "        tag = pos_tag([each])[0][1][0].upper()\n",
    "        hash_tag = {\"N\": wordnet.NOUN,\"R\": wordnet.ADV, \"V\": wordnet.VERB,\"J\": wordnet.ADJ}\n",
    "        return hash_tag.get(tag, wordnet.NOUN)\n",
    "\n",
    "\n",
    "    def lematize(text):\n",
    "        tokens = nltk.word_tokenize(text)\n",
    "        ax = \"\"\n",
    "        for each in tokens:\n",
    "            if each not in stop_words:\n",
    "                ax += lemmatizer.lemmatize(each, fwpt(each)) + \" \"\n",
    "        return ax\n",
    "\n",
    "    df['Document-pro'] = df['Document-pro'].apply(lematize)"
   ]
  },
  {
   "cell_type": "code",
   "execution_count": 27,
   "id": "e0c03215-2dcb-4a98-8caf-605574a4d7b7",
   "metadata": {},
   "outputs": [
    {
     "name": "stderr",
     "output_type": "stream",
     "text": [
      "[nltk_data] Downloading package punkt to\n",
      "[nltk_data]     C:\\Users\\acer\\AppData\\Roaming\\nltk_data...\n",
      "[nltk_data]   Unzipping tokenizers\\punkt.zip.\n",
      "[nltk_data] Downloading package wordnet to\n",
      "[nltk_data]     C:\\Users\\acer\\AppData\\Roaming\\nltk_data...\n",
      "[nltk_data] Downloading package stopwords to\n",
      "[nltk_data]     C:\\Users\\acer\\AppData\\Roaming\\nltk_data...\n",
      "[nltk_data]   Unzipping corpora\\stopwords.zip.\n",
      "[nltk_data] Downloading package averaged_perceptron_tagger to\n",
      "[nltk_data]     C:\\Users\\acer\\AppData\\Roaming\\nltk_data...\n",
      "[nltk_data]   Unzipping taggers\\averaged_perceptron_tagger.zip.\n"
     ]
    },
    {
     "data": {
      "text/plain": [
       "True"
      ]
     },
     "execution_count": 27,
     "metadata": {},
     "output_type": "execute_result"
    }
   ],
   "source": [
    "nltk.download('punkt')\n",
    "nltk.download('wordnet')\n",
    "nltk.download('stopwords')\n",
    "nltk.download('averaged_perceptron_tagger')"
   ]
  },
  {
   "cell_type": "code",
   "execution_count": 28,
   "id": "3116ad4f-3df9-4c61-b1f1-04d8116f9ee6",
   "metadata": {},
   "outputs": [],
   "source": [
    "preprocess(df)"
   ]
  },
  {
   "cell_type": "markdown",
   "id": "0f282c0c-7866-4877-b3d0-84428d18a4b3",
   "metadata": {},
   "source": [
    "### Preprocessing Demonstration"
   ]
  },
  {
   "cell_type": "markdown",
   "id": "da766339-6549-4218-9561-3537f11d6703",
   "metadata": {},
   "source": [
    "**Before Pre-processing:**"
   ]
  },
  {
   "cell_type": "code",
   "execution_count": 29,
   "id": "7ef3ca98-3316-4dfe-b07d-7b41f506dd02",
   "metadata": {},
   "outputs": [
    {
     "data": {
      "text/plain": [
       "'Trying to understand it for the first time or need a refresher? This guide can help.'"
      ]
     },
     "execution_count": 29,
     "metadata": {},
     "output_type": "execute_result"
    }
   ],
   "source": [
    "df.iloc[0]['Document']"
   ]
  },
  {
   "cell_type": "markdown",
   "id": "d0233748-3cab-45f2-8b4f-1c59541b2cf6",
   "metadata": {},
   "source": [
    "**After Pre-processing**"
   ]
  },
  {
   "cell_type": "code",
   "execution_count": 30,
   "id": "85e2264b-924f-4328-9e59-ed6b52d4c4e0",
   "metadata": {},
   "outputs": [
    {
     "data": {
      "text/plain": [
       "'try understand first time need refresher guide help '"
      ]
     },
     "execution_count": 30,
     "metadata": {},
     "output_type": "execute_result"
    }
   ],
   "source": [
    "df.iloc[0]['Document-pro']"
   ]
  },
  {
   "cell_type": "markdown",
   "id": "965dbb4e-c3ce-478f-aacd-2927958ff145",
   "metadata": {},
   "source": [
    "### Train Test Split"
   ]
  },
  {
   "cell_type": "code",
   "execution_count": 31,
   "id": "47d9fa37-7151-41c5-a9ea-85373d48e06f",
   "metadata": {},
   "outputs": [],
   "source": [
    "x_train, x_test, y_train, y_test = train_test_split(df['Document-pro'],\n",
    "                                                    df['Cluster_Name'],\n",
    "                                                    test_size=0.25,\n",
    "                                                    random_state=42)"
   ]
  },
  {
   "cell_type": "markdown",
   "id": "e9707927-3d2e-4971-ac95-44aa956f5e25",
   "metadata": {},
   "source": [
    "Check for acceptable category balance"
   ]
  },
  {
   "cell_type": "code",
   "execution_count": 35,
   "id": "9c2eac4e-fe08-4a38-9504-0582b680190d",
   "metadata": {},
   "outputs": [
    {
     "data": {
      "image/png": "[encoded data removed]",
      "text/plain": [
       "<Figure size 640x480 with 1 Axes>"
      ]
     },
     "metadata": {},
     "output_type": "display_data"
    }
   ],
   "source": [
    "y_train.value_counts().plot(kind='bar')\n",
    "plt.title('Cluster_name Balance', size=20, pad=20);"
   ]
  },
  {
   "cell_type": "code",
   "execution_count": 36,
   "id": "1b961ba6-f301-41bf-a09d-ddf806c65111",
   "metadata": {},
   "outputs": [
    {
     "name": "stdout",
     "output_type": "stream",
     "text": [
      "(83,) (28,) (83,) (28,)\n"
     ]
    }
   ],
   "source": [
    "print(x_train.shape, x_test.shape, y_train.shape, y_test.shape)"
   ]
  },
  {
   "cell_type": "markdown",
   "id": "730ed73e-45f0-493d-b98e-04e63f29dc57",
   "metadata": {},
   "source": [
    "### Vectorize"
   ]
  },
  {
   "cell_type": "code",
   "execution_count": 37,
   "id": "105a2b7e-d5e1-4d5b-aeee-3d42ae79359a",
   "metadata": {},
   "outputs": [],
   "source": [
    "vector = TfidfVectorizer(stop_words='english',\n",
    "                        ngram_range = (1,2),\n",
    "                        min_df = 3,\n",
    "                        max_df = 0.7,\n",
    "                        max_features = 10000)"
   ]
  },
  {
   "cell_type": "code",
   "execution_count": null,
   "id": "5901867a",
   "metadata": {},
   "outputs": [],
   "source": [
    "# Fit Decision Tree Model\n",
    "def fit_decision_tree(x_train, y_train):\n",
    "    line = Pipeline([('vectorize', vector), ('DecisionTree', DecisionTreeClassifier())])\n",
    "    line.fit(x_train, y_train)\n",
    "    return line\n",
    "\n",
    "decision_tree_model = fit_decision_tree(x_train, y_train)\n",
    "\n",
    "# Evaluate the Decision Tree Model\n",
    "def evaluate_model(model, x_test, y_test):\n",
    "    y_pred = model.predict(x_test)\n",
    "    accuracy = metrics.accuracy_score(y_test, y_pred)\n",
    "    precision = metrics.precision_score(y_test, y_pred, average='weighted')\n",
    "    recall = metrics.recall_score(y_test, y_pred, average='weighted')\n",
    "    f1 = metrics.f1_score(y_test, y_pred, average='weighted')\n",
    "    return accuracy, precision, recall, f1\n",
    "\n",
    "decision_tree_metrics = evaluate_model(decision_tree_model, x_test, y_test)\n",
    "print(f\"Decision Tree Metrics:\\nAccuracy: {decision_tree_metrics[0]}\\nPrecision: {decision_tree_metrics[1]}\\nRecall: {decision_tree_metrics[2]}\\nF1 Score: {decision_tree_metrics[3]}\")"
   ]
  },
  {
   "cell_type": "code",
   "execution_count": null,
   "id": "a923e692",
   "metadata": {},
   "outputs": [],
   "source": [
    "# Fit KMeans Model\n",
    "def fit_kmeans(x_train):\n",
    "    line = Pipeline([('vectorize', vector), ('KMeans', KMeans(n_clusters=3, random_state=42))])\n",
    "    line.fit(x_train)\n",
    "    return line\n",
    "\n",
    "kmeans_model = fit_kmeans(x_train)\n",
    "\n",
    "# Predict with KMeans Model\n",
    "def predict_kmeans(model, x_test):\n",
    "    return model.predict(x_test)\n",
    "\n",
    "kmeans_predictions = predict_kmeans(kmeans_model, x_test)\n",
    "print(f\"KMeans Cluster Predictions: {np.unique(kmeans_predictions, return_counts=True)}\")"
   ]
  },
  {
   "cell_type": "code",
   "execution_count": null,
   "id": "50d9409d",
   "metadata": {},
   "outputs": [],
   "source": []
  },
  {
   "cell_type": "markdown",
   "id": "865cb1fa-cee1-4ae2-8d29-c123171043b7",
   "metadata": {},
   "source": [
    "### Model Construction"
   ]
  },
  {
   "cell_type": "code",
   "execution_count": 38,
   "id": "c6c7d169-b6ef-4280-9a8d-9549f1df170d",
   "metadata": {},
   "outputs": [],
   "source": [
    "def fit_model(model, model_name):\n",
    "    line = Pipeline([('vectorize', vector), (model_name, model)])\n",
    "    \n",
    "    output = cross_validate(line, x_train, y_train,\n",
    "                            cv = KFold(shuffle = True,\n",
    "                                       n_splits=3,\n",
    "                                       random_state=42),\n",
    "                            scoring = ('accuracy', 'f1_weighted','precision_weighted','recall_weighted'),\n",
    "                            return_train_score=True, error_score='raise')\n",
    "    return output"
   ]
  },
  {
   "cell_type": "code",
   "execution_count": 39,
   "id": "e81441c0-fa9e-45d2-84de-f7431a9dd020",
   "metadata": {},
   "outputs": [
    {
     "name": "stderr",
     "output_type": "stream",
     "text": [
      "c:\\Project\\Environment\\env\\Lib\\site-packages\\sklearn\\metrics\\_classification.py:1531: UndefinedMetricWarning: Precision is ill-defined and being set to 0.0 in labels with no predicted samples. Use `zero_division` parameter to control this behavior.\n",
      "  _warn_prf(average, modifier, f\"{metric.capitalize()} is\", len(result))\n"
     ]
    }
   ],
   "source": [
    "decisiontree = fit_model(DecisionTreeClassifier(), 'DecisionTree')\n",
    "ridge = fit_model(RidgeClassifier(), 'Ridge')\n",
    "bayes = fit_model(MultinomialNB(), 'NaiveBayes')\n",
    "\n",
    "dt = pd.DataFrame.from_dict(decisiontree)\n",
    "rc = pd.DataFrame.from_dict(ridge)\n",
    "bc = pd.DataFrame.from_dict(bayes)"
   ]
  },
  {
   "cell_type": "code",
   "execution_count": 40,
   "id": "0b560f75-79d4-4986-a7a3-da18d4bb414d",
   "metadata": {},
   "outputs": [],
   "source": [
    "l1 = [bc, rc, dt]\n",
    "l2 = [\"NaiveBayes\",\"Ridge\",\"DecisionTree\"]\n",
    "\n",
    "for each, tag in zip(l1,l2):\n",
    "    each['model'] = [tag, tag, tag]\n",
    "\n",
    "joined_output = pd.concat([bc,rc,dt])"
   ]
  },
  {
   "cell_type": "code",
   "execution_count": 41,
   "id": "d5d17b1d-4242-480d-9506-60e093e3303d",
   "metadata": {},
   "outputs": [
    {
     "data": {
      "text/plain": [
       "{'fit_time': array([0.07605028, 0.0102284 , 0.01602745]),\n",
       " 'score_time': array([0.03811383, 0.03621006, 0.03099513]),\n",
       " 'test_accuracy': array([0.46428571, 0.46428571, 0.59259259]),\n",
       " 'train_accuracy': array([0.8       , 0.81818182, 0.80357143]),\n",
       " 'test_f1_weighted': array([0.46545455, 0.47619048, 0.55688509]),\n",
       " 'train_f1_weighted': array([0.79389032, 0.81974026, 0.80556379]),\n",
       " 'test_precision_weighted': array([0.64583333, 0.52721088, 0.61111111]),\n",
       " 'train_precision_weighted': array([0.86470588, 0.86363636, 0.85595238]),\n",
       " 'test_recall_weighted': array([0.46428571, 0.46428571, 0.59259259]),\n",
       " 'train_recall_weighted': array([0.8       , 0.81818182, 0.80357143])}"
      ]
     },
     "execution_count": 41,
     "metadata": {},
     "output_type": "execute_result"
    }
   ],
   "source": [
    "decisiontree"
   ]
  },
  {
   "cell_type": "code",
   "execution_count": 42,
   "id": "dd01e96b-2a66-4316-b4b3-7b40c5aa74db",
   "metadata": {},
   "outputs": [
    {
     "data": {
      "text/plain": [
       "{'fit_time': array([0.03924775, 0.03239942, 0.03088856]),\n",
       " 'score_time': array([0.01881099, 0.01656747, 0.01584935]),\n",
       " 'test_accuracy': array([0.46428571, 0.5       , 0.55555556]),\n",
       " 'train_accuracy': array([0.78181818, 0.81818182, 0.73214286]),\n",
       " 'test_f1_weighted': array([0.46545455, 0.50796108, 0.52141932]),\n",
       " 'train_f1_weighted': array([0.77632368, 0.81974026, 0.72961146]),\n",
       " 'test_precision_weighted': array([0.64583333, 0.54315476, 0.54298942]),\n",
       " 'train_precision_weighted': array([0.83962704, 0.86363636, 0.74495266]),\n",
       " 'test_recall_weighted': array([0.46428571, 0.5       , 0.55555556]),\n",
       " 'train_recall_weighted': array([0.78181818, 0.81818182, 0.73214286])}"
      ]
     },
     "execution_count": 42,
     "metadata": {},
     "output_type": "execute_result"
    }
   ],
   "source": [
    "ridge"
   ]
  },
  {
   "cell_type": "code",
   "execution_count": 43,
   "id": "02e56bf7-5e36-4932-b4b6-9ed911f8e90a",
   "metadata": {},
   "outputs": [
    {
     "data": {
      "text/plain": [
       "{'fit_time': array([0.00974226, 0.01959825, 0.01793933]),\n",
       " 'score_time': array([0.03108907, 0.01698565, 0.07571888]),\n",
       " 'test_accuracy': array([0.46428571, 0.53571429, 0.14814815]),\n",
       " 'train_accuracy': array([0.74545455, 0.70909091, 0.53571429]),\n",
       " 'test_f1_weighted': array([0.46545455, 0.49349206, 0.04389575]),\n",
       " 'train_f1_weighted': array([0.73913753, 0.67727851, 0.48487658]),\n",
       " 'test_precision_weighted': array([0.64583333, 0.67633929, 0.0257649 ]),\n",
       " 'train_precision_weighted': array([0.84176904, 0.76414439, 0.52997449]),\n",
       " 'test_recall_weighted': array([0.46428571, 0.53571429, 0.14814815]),\n",
       " 'train_recall_weighted': array([0.74545455, 0.70909091, 0.53571429])}"
      ]
     },
     "execution_count": 43,
     "metadata": {},
     "output_type": "execute_result"
    }
   ],
   "source": [
    "bayes"
   ]
  },
  {
   "cell_type": "code",
   "execution_count": 44,
   "id": "f3cd5c41-71df-49d3-9ea9-02a04a03c651",
   "metadata": {},
   "outputs": [],
   "source": [
    "relevant_measures = list(['test_accuracy', 'test_precision_weighted', 'test_recall_weighted',  'test_f1_weighted'])\n",
    "\n",
    "\n",
    "dec_tree_metrics = joined_output.loc[joined_output.model == 'DecisionTree'][relevant_measures]\n",
    "nb_metrics = joined_output.loc[joined_output.model == 'NaiveBayes'][relevant_measures]\n",
    "r_metrics = joined_output.loc[joined_output.model == 'Ridge'][relevant_measures]"
   ]
  },
  {
   "cell_type": "markdown",
   "id": "f0f94904-c7de-46ad-b220-4febac2e95f6",
   "metadata": {},
   "source": [
    "Decision Tree Metrics"
   ]
  },
  {
   "cell_type": "code",
   "execution_count": 45,
   "id": "cd070e27-4f6c-4ac3-8e21-b52ce368a104",
   "metadata": {},
   "outputs": [
    {
     "data": {
      "text/html": [
       "<div>\n",
       "<style scoped>\n",
       "    .dataframe tbody tr th:only-of-type {\n",
       "        vertical-align: middle;\n",
       "    }\n",
       "\n",
       "    .dataframe tbody tr th {\n",
       "        vertical-align: top;\n",
       "    }\n",
       "\n",
       "    .dataframe thead th {\n",
       "        text-align: right;\n",
       "    }\n",
       "</style>\n",
       "<table border=\"1\" class=\"dataframe\">\n",
       "  <thead>\n",
       "    <tr style=\"text-align: right;\">\n",
       "      <th></th>\n",
       "      <th>test_accuracy</th>\n",
       "      <th>test_precision_weighted</th>\n",
       "      <th>test_recall_weighted</th>\n",
       "      <th>test_f1_weighted</th>\n",
       "    </tr>\n",
       "  </thead>\n",
       "  <tbody>\n",
       "    <tr>\n",
       "      <th>0</th>\n",
       "      <td>0.464286</td>\n",
       "      <td>0.645833</td>\n",
       "      <td>0.464286</td>\n",
       "      <td>0.465455</td>\n",
       "    </tr>\n",
       "    <tr>\n",
       "      <th>1</th>\n",
       "      <td>0.464286</td>\n",
       "      <td>0.527211</td>\n",
       "      <td>0.464286</td>\n",
       "      <td>0.476190</td>\n",
       "    </tr>\n",
       "    <tr>\n",
       "      <th>2</th>\n",
       "      <td>0.592593</td>\n",
       "      <td>0.611111</td>\n",
       "      <td>0.592593</td>\n",
       "      <td>0.556885</td>\n",
       "    </tr>\n",
       "  </tbody>\n",
       "</table>\n",
       "</div>"
      ],
      "text/plain": [
       "   test_accuracy  test_precision_weighted  test_recall_weighted  \\\n",
       "0       0.464286                 0.645833              0.464286   \n",
       "1       0.464286                 0.527211              0.464286   \n",
       "2       0.592593                 0.611111              0.592593   \n",
       "\n",
       "   test_f1_weighted  \n",
       "0          0.465455  \n",
       "1          0.476190  \n",
       "2          0.556885  "
      ]
     },
     "execution_count": 45,
     "metadata": {},
     "output_type": "execute_result"
    }
   ],
   "source": [
    "dec_tree_metrics"
   ]
  },
  {
   "cell_type": "markdown",
   "id": "2b0b465d-2aad-4bbe-86e9-680cba9d463f",
   "metadata": {},
   "source": [
    "Multinomial Naive Bayes Metrics"
   ]
  },
  {
   "cell_type": "code",
   "execution_count": 46,
   "id": "8921102c-9fd4-43f2-9a4f-282ff6752b85",
   "metadata": {},
   "outputs": [
    {
     "data": {
      "text/html": [
       "<div>\n",
       "<style scoped>\n",
       "    .dataframe tbody tr th:only-of-type {\n",
       "        vertical-align: middle;\n",
       "    }\n",
       "\n",
       "    .dataframe tbody tr th {\n",
       "        vertical-align: top;\n",
       "    }\n",
       "\n",
       "    .dataframe thead th {\n",
       "        text-align: right;\n",
       "    }\n",
       "</style>\n",
       "<table border=\"1\" class=\"dataframe\">\n",
       "  <thead>\n",
       "    <tr style=\"text-align: right;\">\n",
       "      <th></th>\n",
       "      <th>test_accuracy</th>\n",
       "      <th>test_precision_weighted</th>\n",
       "      <th>test_recall_weighted</th>\n",
       "      <th>test_f1_weighted</th>\n",
       "    </tr>\n",
       "  </thead>\n",
       "  <tbody>\n",
       "    <tr>\n",
       "      <th>0</th>\n",
       "      <td>0.464286</td>\n",
       "      <td>0.645833</td>\n",
       "      <td>0.464286</td>\n",
       "      <td>0.465455</td>\n",
       "    </tr>\n",
       "    <tr>\n",
       "      <th>1</th>\n",
       "      <td>0.535714</td>\n",
       "      <td>0.676339</td>\n",
       "      <td>0.535714</td>\n",
       "      <td>0.493492</td>\n",
       "    </tr>\n",
       "    <tr>\n",
       "      <th>2</th>\n",
       "      <td>0.148148</td>\n",
       "      <td>0.025765</td>\n",
       "      <td>0.148148</td>\n",
       "      <td>0.043896</td>\n",
       "    </tr>\n",
       "  </tbody>\n",
       "</table>\n",
       "</div>"
      ],
      "text/plain": [
       "   test_accuracy  test_precision_weighted  test_recall_weighted  \\\n",
       "0       0.464286                 0.645833              0.464286   \n",
       "1       0.535714                 0.676339              0.535714   \n",
       "2       0.148148                 0.025765              0.148148   \n",
       "\n",
       "   test_f1_weighted  \n",
       "0          0.465455  \n",
       "1          0.493492  \n",
       "2          0.043896  "
      ]
     },
     "execution_count": 46,
     "metadata": {},
     "output_type": "execute_result"
    }
   ],
   "source": [
    "nb_metrics"
   ]
  },
  {
   "cell_type": "markdown",
   "id": "44856407-7851-4b37-b29d-697ddde0240c",
   "metadata": {},
   "source": [
    "Ridge Classifier Metrics"
   ]
  },
  {
   "cell_type": "code",
   "execution_count": 47,
   "id": "b6bcc7c3-33d2-4959-a472-ae7bce0ddd18",
   "metadata": {},
   "outputs": [
    {
     "data": {
      "text/html": [
       "<div>\n",
       "<style scoped>\n",
       "    .dataframe tbody tr th:only-of-type {\n",
       "        vertical-align: middle;\n",
       "    }\n",
       "\n",
       "    .dataframe tbody tr th {\n",
       "        vertical-align: top;\n",
       "    }\n",
       "\n",
       "    .dataframe thead th {\n",
       "        text-align: right;\n",
       "    }\n",
       "</style>\n",
       "<table border=\"1\" class=\"dataframe\">\n",
       "  <thead>\n",
       "    <tr style=\"text-align: right;\">\n",
       "      <th></th>\n",
       "      <th>test_accuracy</th>\n",
       "      <th>test_precision_weighted</th>\n",
       "      <th>test_recall_weighted</th>\n",
       "      <th>test_f1_weighted</th>\n",
       "    </tr>\n",
       "  </thead>\n",
       "  <tbody>\n",
       "    <tr>\n",
       "      <th>0</th>\n",
       "      <td>0.464286</td>\n",
       "      <td>0.645833</td>\n",
       "      <td>0.464286</td>\n",
       "      <td>0.465455</td>\n",
       "    </tr>\n",
       "    <tr>\n",
       "      <th>1</th>\n",
       "      <td>0.500000</td>\n",
       "      <td>0.543155</td>\n",
       "      <td>0.500000</td>\n",
       "      <td>0.507961</td>\n",
       "    </tr>\n",
       "    <tr>\n",
       "      <th>2</th>\n",
       "      <td>0.555556</td>\n",
       "      <td>0.542989</td>\n",
       "      <td>0.555556</td>\n",
       "      <td>0.521419</td>\n",
       "    </tr>\n",
       "  </tbody>\n",
       "</table>\n",
       "</div>"
      ],
      "text/plain": [
       "   test_accuracy  test_precision_weighted  test_recall_weighted  \\\n",
       "0       0.464286                 0.645833              0.464286   \n",
       "1       0.500000                 0.543155              0.500000   \n",
       "2       0.555556                 0.542989              0.555556   \n",
       "\n",
       "   test_f1_weighted  \n",
       "0          0.465455  \n",
       "1          0.507961  \n",
       "2          0.521419  "
      ]
     },
     "execution_count": 47,
     "metadata": {},
     "output_type": "execute_result"
    }
   ],
   "source": [
    "r_metrics"
   ]
  },
  {
   "cell_type": "markdown",
   "id": "349fb652-2f07-4b55-9e1a-709e7079a0ee",
   "metadata": {},
   "source": [
    "Average Metrics"
   ]
  },
  {
   "cell_type": "code",
   "execution_count": 48,
   "id": "ec3e4bb9-847a-4173-917a-bd765f915ab2",
   "metadata": {},
   "outputs": [
    {
     "name": "stdout",
     "output_type": "stream",
     "text": [
      "Decision Tree Mean Metrics:\n",
      "test_accuracy              0.507055\n",
      "test_precision_weighted    0.594718\n",
      "test_recall_weighted       0.507055\n",
      "test_f1_weighted           0.499510\n",
      "dtype: float64\n",
      " \n",
      "Naive Bayes Mean Metrics:\n",
      "test_accuracy              0.382716\n",
      "test_precision_weighted    0.449313\n",
      "test_recall_weighted       0.382716\n",
      "test_f1_weighted           0.334281\n",
      "dtype: float64\n",
      " \n",
      "Ridge Classifier Mean Metrics:\n",
      "test_accuracy              0.506614\n",
      "test_precision_weighted    0.577326\n",
      "test_recall_weighted       0.506614\n",
      "test_f1_weighted           0.498278\n",
      "dtype: float64\n",
      " \n"
     ]
    }
   ],
   "source": [
    "metrics_ = [dec_tree_metrics, nb_metrics, r_metrics]\n",
    "names_ = ['Decision Tree', 'Naive Bayes', 'Ridge Classifier']\n",
    "\n",
    "for scores, names in zip(metrics_, names_):\n",
    "    print(f'{names} Mean Metrics:')\n",
    "    print(scores.mean())\n",
    "    print(\" \")"
   ]
  },
  {
   "cell_type": "markdown",
   "id": "2fc48841-d945-478a-8d1d-5d93f6a3637b",
   "metadata": {},
   "source": [
    "### Selecting a Model"
   ]
  },
  {
   "cell_type": "markdown",
   "id": "548bc3eb-2197-453c-b2a5-565e0a5ec036",
   "metadata": {},
   "source": [
    "We can see from the metrics above that Ridge Classifier performs the best among three. However, we will be choosing the Multinomial Naive Bayes Classifier as the final model due to it's ability to provide probability score for each prediction."
   ]
  },
  {
   "cell_type": "code",
   "execution_count": 49,
   "id": "c390b24b-c36a-4386-a07f-d70619e41c3f",
   "metadata": {},
   "outputs": [],
   "source": [
    "x = pd.concat([x_train,\n",
    "               x_test])\n",
    "y = pd.concat([y_train,\n",
    "               y_test])"
   ]
  },
  {
   "cell_type": "code",
   "execution_count": 50,
   "id": "f8c149b6-8eea-4659-b318-5588493a3767",
   "metadata": {},
   "outputs": [],
   "source": [
    "def create_and_fit(clf, x, y):\n",
    "    best_clf = clf\n",
    "    pipeline = Pipeline([('vectorize',vector), ('model',best_clf)])\n",
    "    return pipeline.fit(x,y)"
   ]
  },
  {
   "cell_type": "code",
   "execution_count": 51,
   "id": "0f81b68f-fcc7-4e57-9f4c-3bb3be033700",
   "metadata": {},
   "outputs": [],
   "source": [
    "classifier = create_and_fit(MultinomialNB(),x,y)"
   ]
  },
  {
   "cell_type": "code",
   "execution_count": 52,
   "id": "63843947-c9a1-47aa-97bf-e99295f056e8",
   "metadata": {},
   "outputs": [
    {
     "data": {
      "text/plain": [
       "array(['Economics', 'Entertainment', 'Politics'], dtype='<U13')"
      ]
     },
     "execution_count": 52,
     "metadata": {},
     "output_type": "execute_result"
    }
   ],
   "source": [
    "classifier.classes_"
   ]
  },
  {
   "cell_type": "markdown",
   "id": "12956b34-37c8-416d-9bff-7d68dbe35696",
   "metadata": {},
   "source": [
    "### Final Testing"
   ]
  },
  {
   "cell_type": "markdown",
   "id": "2735e8f7-c1d4-4865-8dc1-2dfe714400f4",
   "metadata": {},
   "source": [
    "This text is extracted through Google News from the Business Section.\n",
    "The classifier should predict the text as \"BUSINESS\""
   ]
  },
  {
   "cell_type": "code",
   "execution_count": 32,
   "id": "640f526c-777a-41c4-9ba3-e65a8d89d894",
   "metadata": {},
   "outputs": [
    {
     "data": {
      "text/plain": [
       "array([[0.43035041, 0.2765513 , 0.29309829]])"
      ]
     },
     "execution_count": 32,
     "metadata": {},
     "output_type": "execute_result"
    }
   ],
   "source": [
    "input_text = 'A 34%, three-day surge in SoftBank Group Corp. has pushed its shares to the most overbought level in more than two decades on the back of Arm Holdings Plc.’s explosive rally.'\n",
    "classifier.predict_proba([input_text])"
   ]
  },
  {
   "cell_type": "code",
   "execution_count": 33,
   "id": "97a4614e-d93f-4ea1-a69d-966d5fcd6745",
   "metadata": {},
   "outputs": [
    {
     "data": {
      "text/plain": [
       "'BUSINESS'"
      ]
     },
     "execution_count": 33,
     "metadata": {},
     "output_type": "execute_result"
    }
   ],
   "source": [
    "classifier.predict([input_text])[0]"
   ]
  },
  {
   "cell_type": "markdown",
   "id": "d73554c4-6398-4e3e-9223-ac08e253ce69",
   "metadata": {},
   "source": [
    "### GUI"
   ]
  },
  {
   "cell_type": "code",
   "execution_count": 36,
   "id": "7c72fb0e-fe14-4c26-a0ee-6d9c19d0a654",
   "metadata": {},
   "outputs": [],
   "source": [
    "import tkinter as tk\n",
    "from tkinter.scrolledtext import ScrolledText\n",
    "\n",
    "\n",
    "window = tk.Tk()\n",
    "\n",
    "\n",
    "window.title(\"TEXT CLASSIFIER\")\n",
    "window.minsize(600,400)\n",
    "\n",
    "text_box = ScrolledText(window)\n",
    "text_box.grid(column=0, row=1, padx=5, pady=5)\n",
    "\n",
    "def result(res, pr):\n",
    "    BUSINESS = round(pr[0][0], 3)\n",
    "    HEALTH = round(pr[0][1], 3)\n",
    "    SPORTS = round(pr[0][2], 3)\n",
    "    \n",
    "    lines = [f\"Health: {HEALTH}\", f\"Business: {BUSINESS}\", f\"Sports: {SPORTS}\"]\n",
    "    tk.messagebox.showinfo(message= f\"Predicted Category: {str(res).capitalize()}\" + \"\\n\\n\\n\"+\"\\n\".join(lines))\n",
    "\n",
    "def clickMe():\n",
    "    classification = tk.StringVar()\n",
    "    category_,probabilities = classify_text(text_box.get(\"1.0\",tk.END))\n",
    "    result(category_, probabilities)\n",
    "    \n",
    "\n",
    "def classify_text(input_text):\n",
    "    out = classifier.predict([input_text])[0]\n",
    "    probs = classifier.predict_proba([input_text])\n",
    "    return out,probs\n",
    "\n",
    "label = tk.Label(window, text = \"Enter Text to be classified\")\n",
    "label.grid(column = 0, row = 0)\n",
    "\n",
    "btn = tk.Button(window, text=\"Classify\", command=clickMe)\n",
    "btn.grid(column=0, row=2)\n",
    "\n",
    "\n",
    "window.mainloop()"
   ]
  }
 ],
 "metadata": {
  "kernelspec": {
   "display_name": "Python 3 (ipykernel)",
   "language": "python",
   "name": "python3"
  },
  "language_info": {
   "codemirror_mode": {
    "name": "ipython",
    "version": 3
   },
   "file_extension": ".py",
   "mimetype": "text/x-python",
   "name": "python",
   "nbconvert_exporter": "python",
   "pygments_lexer": "ipython3",
   "version": "3.11.9"
  }
 },
 "nbformat": 4,
 "nbformat_minor": 5
}
